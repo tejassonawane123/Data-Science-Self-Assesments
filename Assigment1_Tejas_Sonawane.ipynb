{
 "cells": [
  {
   "cell_type": "markdown",
   "id": "b2f74910",
   "metadata": {},
   "source": [
    "# Problem Statement1: Write a Python program to multiply a M * N matrix by N * A matrix and create a real matrix product."
   ]
  },
  {
   "cell_type": "code",
   "execution_count": 1,
   "id": "694239d4",
   "metadata": {},
   "outputs": [],
   "source": [
    "#pip install numpy"
   ]
  },
  {
   "cell_type": "code",
   "execution_count": 2,
   "id": "a3a5b4f7",
   "metadata": {},
   "outputs": [
    {
     "name": "stdout",
     "output_type": "stream",
     "text": [
      "Enter value M: 5\n",
      "Enter value N: 3\n",
      "Enter value A: 2\n",
      "\n",
      "First array: [[0.90968938 0.37583108 0.675114  ]\n",
      " [0.99721166 0.30613221 0.67992125]\n",
      " [0.47667624 0.63811663 0.06660687]\n",
      " [0.40511824 0.94649664 0.751835  ]\n",
      " [0.34391561 0.43217596 0.40395053]]\n",
      "\n",
      "Second array: [[0.51874784 0.22871907]\n",
      " [0.00203733 0.4923748 ]\n",
      " [0.96034543 0.41000967]]\n",
      "\n",
      "Dot product of two arrays: [[1.12100774 0.66991633]\n",
      " [1.17088435 0.65758739]\n",
      " [0.31254042 0.45052695]\n",
      " [0.93410385 0.86694898]\n",
      " [0.56721801 0.45707623]]\n"
     ]
    }
   ],
   "source": [
    "import numpy as np\n",
    "\n",
    "#Getting the input values from user\n",
    "\n",
    "M=int(input(\"Enter value M: \"))\n",
    "N=int(input(\"Enter value N: \"))\n",
    "A=int(input(\"Enter value A: \"))\n",
    "\n",
    "array_first=np.random.rand(M,N)\n",
    "array_second=np.random.rand(N,A)\n",
    "\n",
    "#performing matrix multiplication with dot function\n",
    "result=np.dot(array_first,array_second)\n",
    "\n",
    "#printing matrix and their product\n",
    "print(\"\\nFirst array:\",array_first)\n",
    "print(\"\\nSecond array:\",array_second)\n",
    "print(\"\\nDot product of two arrays:\",result)\n"
   ]
  },
  {
   "cell_type": "markdown",
   "id": "555f5b8e",
   "metadata": {},
   "source": [
    "# Problem Statement2: Write a NumPy program to check if each element of an array of your choice is composed of digits, lower case letters, and upper case letters only."
   ]
  },
  {
   "cell_type": "code",
   "execution_count": 3,
   "id": "89a5270d",
   "metadata": {},
   "outputs": [
    {
     "name": "stdout",
     "output_type": "stream",
     "text": [
      "Enter values:Python PHP JS Examples html5 5\n",
      "\n",
      "Original Array:\n",
      "['Python' 'PHP' 'JS' 'Examples' 'html5' '5']\n",
      "Digits only = [False False False False False  True]\n",
      "Lower cases only = [False False False False  True False]\n",
      "Upper cases only = [False  True  True False False False]\n"
     ]
    }
   ],
   "source": [
    "import numpy as np\n",
    "d=list(map(str,input(\"Enter values:\").split()))\n",
    "print(\"\\nOriginal Array:\")\n",
    "print(np.array(d))\n",
    "a=np.char.isdigit(d)\n",
    "b=np.char.islower(d)\n",
    "c=np.char.isupper(d)\n",
    "print(\"Digits only =\",a)\n",
    "print(\"Lower cases only =\",b)\n",
    "print(\"Upper cases only =\",c)\n"
   ]
  },
  {
   "cell_type": "markdown",
   "id": "2cbeccd2",
   "metadata": {},
   "source": [
    "# Problem Statement3:Write a program thatreads two space-separated positive integers X and Y as input and perform the following tasks:"
   ]
  },
  {
   "cell_type": "code",
   "execution_count": 4,
   "id": "905b25a4",
   "metadata": {},
   "outputs": [],
   "source": [
    "import numpy as np "
   ]
  },
  {
   "cell_type": "code",
   "execution_count": 5,
   "id": "f4cdc96d",
   "metadata": {},
   "outputs": [
    {
     "name": "stdout",
     "output_type": "stream",
     "text": [
      "Enter two space-separated positive integers X and Y: 7 9\n"
     ]
    }
   ],
   "source": [
    "X, Y = map(int, input(\"Enter two space-separated positive integers X and Y: \").split())"
   ]
  },
  {
   "cell_type": "markdown",
   "id": "ef2d9a70",
   "metadata": {},
   "source": [
    "Tasks to be performed:"
   ]
  },
  {
   "cell_type": "markdown",
   "id": "425fff47",
   "metadata": {},
   "source": [
    "1.Create a list (lst1) starting at one (1) with 16 elements at a step of X"
   ]
  },
  {
   "cell_type": "code",
   "execution_count": 6,
   "id": "fbabdc32",
   "metadata": {},
   "outputs": [],
   "source": [
    "l1=list(range(1,16*X,X))"
   ]
  },
  {
   "cell_type": "markdown",
   "id": "d0ca5e6f",
   "metadata": {},
   "source": [
    "2.Create a list (lst2) starting at one (1) with 16 elements at a step of Y"
   ]
  },
  {
   "cell_type": "code",
   "execution_count": 7,
   "id": "fef5e6a8",
   "metadata": {},
   "outputs": [],
   "source": [
    "l2=list(range(1,16*Y,Y))"
   ]
  },
  {
   "cell_type": "markdown",
   "id": "23e19e59",
   "metadata": {},
   "source": [
    "3.Create two NumPy arrays np1 and np2 using lst1 and lst2 respectively"
   ]
  },
  {
   "cell_type": "code",
   "execution_count": 8,
   "id": "51e410a2",
   "metadata": {},
   "outputs": [],
   "source": [
    "np1=np.array(l1)\n",
    "np2=np.array(l2)"
   ]
  },
  {
   "cell_type": "markdown",
   "id": "52e28c25",
   "metadata": {},
   "source": [
    "4.Reshape both the NumPy arrays to (4,4)"
   ]
  },
  {
   "cell_type": "code",
   "execution_count": 9,
   "id": "a36fac4c",
   "metadata": {},
   "outputs": [],
   "source": [
    "np1=np1.reshape(4,4)\n",
    "np2=np2.reshape(4,4)"
   ]
  },
  {
   "cell_type": "markdown",
   "id": "b0613e24",
   "metadata": {},
   "source": [
    "5.Create a new np array (np3) with values obtained by subtracting both the arrays (np1 -np2)"
   ]
  },
  {
   "cell_type": "code",
   "execution_count": 10,
   "id": "c754a8a4",
   "metadata": {},
   "outputs": [],
   "source": [
    "np3=np1-np2"
   ]
  },
  {
   "cell_type": "markdown",
   "id": "80db3fba",
   "metadata": {},
   "source": [
    "6.Print all the elements of np3 in a single dimension list like the format as shown below:a.[n0 n1 n2 n3 n4 n5 n6 n7 n8]"
   ]
  },
  {
   "cell_type": "code",
   "execution_count": 11,
   "id": "f7ba9906",
   "metadata": {},
   "outputs": [
    {
     "name": "stdout",
     "output_type": "stream",
     "text": [
      "[  0  -2  -4  -6  -8 -10 -12 -14 -16 -18 -20 -22 -24 -26 -28 -30]\n"
     ]
    }
   ],
   "source": [
    "print(np3.flatten())"
   ]
  },
  {
   "cell_type": "markdown",
   "id": "ea0d0b4f",
   "metadata": {},
   "source": [
    "# Problem Statement4: Write a Python program thattakes two integer-NumPy arrays, P and Q of shape [3∗3]and performthe following task:"
   ]
  },
  {
   "cell_type": "code",
   "execution_count": 12,
   "id": "2de1bafb",
   "metadata": {},
   "outputs": [
    {
     "name": "stdout",
     "output_type": "stream",
     "text": [
      "Enter integers for matrix P: 23 56 87 3 6 96 4 6 78\n",
      "Enter integers for matrix Q: 12 34 54 7 2 54 6 2 78\n"
     ]
    }
   ],
   "source": [
    "import numpy as np\n",
    "\n",
    "P_val = np.array(list(map(int, input(\"Enter integers for matrix P: \").split()))).reshape(3, 3)\n",
    "Q_val = np.array(list(map(int, input(\"Enter integers for matrix Q: \").split()))).reshape(3, 3)\n",
    "\n",
    "P = np.array(P_val)\n",
    "Q = np.array(Q_val)\n"
   ]
  },
  {
   "cell_type": "markdown",
   "id": "c4779ae9",
   "metadata": {},
   "source": [
    "Task to be performed:"
   ]
  },
  {
   "cell_type": "markdown",
   "id": "49975248",
   "metadata": {},
   "source": [
    "Print the element-wise difference of the matrix P and Q(P-Q)"
   ]
  },
  {
   "cell_type": "code",
   "execution_count": 13,
   "id": "648a90d6",
   "metadata": {},
   "outputs": [],
   "source": [
    "result = P - Q"
   ]
  },
  {
   "cell_type": "code",
   "execution_count": 14,
   "id": "8c67d3aa",
   "metadata": {},
   "outputs": [
    {
     "name": "stdout",
     "output_type": "stream",
     "text": [
      "[[11 22 33]\n",
      " [-4  4 42]\n",
      " [-2  4  0]]\n"
     ]
    }
   ],
   "source": [
    "#print(\"Element-wise difference of matrix P and Q:\")\n",
    "print(result)"
   ]
  }
 ],
 "metadata": {
  "kernelspec": {
   "display_name": "Python 3 (ipykernel)",
   "language": "python",
   "name": "python3"
  },
  "language_info": {
   "codemirror_mode": {
    "name": "ipython",
    "version": 3
   },
   "file_extension": ".py",
   "mimetype": "text/x-python",
   "name": "python",
   "nbconvert_exporter": "python",
   "pygments_lexer": "ipython3",
   "version": "3.11.3"
  }
 },
 "nbformat": 4,
 "nbformat_minor": 5
}
